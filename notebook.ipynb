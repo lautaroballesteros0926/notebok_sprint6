{
 "cells": [
  {
   "cell_type": "code",
   "execution_count": 1,
   "metadata": {},
   "outputs": [],
   "source": [
    "#importando las librerias necesarias\n",
    "import pandas as pd\n",
    "import matplotlib.pyplot as plt \n",
    "import seaborn as sns"
   ]
  },
  {
   "cell_type": "code",
   "execution_count": 2,
   "metadata": {},
   "outputs": [
    {
     "name": "stdout",
     "output_type": "stream",
     "text": [
      "<class 'pandas.core.frame.DataFrame'>\n",
      "RangeIndex: 16715 entries, 0 to 16714\n",
      "Data columns (total 11 columns):\n",
      " #   Column           Non-Null Count  Dtype  \n",
      "---  ------           --------------  -----  \n",
      " 0   Name             16713 non-null  object \n",
      " 1   Platform         16715 non-null  object \n",
      " 2   Year_of_Release  16446 non-null  float64\n",
      " 3   Genre            16713 non-null  object \n",
      " 4   NA_sales         16715 non-null  float64\n",
      " 5   EU_sales         16715 non-null  float64\n",
      " 6   JP_sales         16715 non-null  float64\n",
      " 7   Other_sales      16715 non-null  float64\n",
      " 8   Critic_Score     8137 non-null   float64\n",
      " 9   User_Score       10014 non-null  object \n",
      " 10  Rating           9949 non-null   object \n",
      "dtypes: float64(6), object(5)\n",
      "memory usage: 1.4+ MB\n"
     ]
    }
   ],
   "source": [
    "#Cargando los datos \n",
    "data_game= pd.read_csv('games.csv')\n",
    "data_game.info()"
   ]
  },
  {
   "cell_type": "code",
   "execution_count": 3,
   "metadata": {},
   "outputs": [],
   "source": [
    "#renombrando columnas \n",
    "columnas=data_game.columns\n",
    "columnas_minuscula=[]\n",
    "for s in columnas: \n",
    "    columnas_minuscula.append(s.lower())\n",
    "data_game.columns=columnas_minuscula"
   ]
  },
  {
   "cell_type": "markdown",
   "metadata": {},
   "source": [
    "## Conversion del tipo de dato "
   ]
  },
  {
   "cell_type": "markdown",
   "metadata": {},
   "source": [
    "Comenzamos por la conversion del tipo de dato de algunas columnas. \n",
    "En esta primera parte evidenciaremos el porque del cambio de dato."
   ]
  },
  {
   "cell_type": "code",
   "execution_count": 4,
   "metadata": {},
   "outputs": [
    {
     "name": "stdout",
     "output_type": "stream",
     "text": [
      "                       name platform  year_of_release         genre  na_sales  \\\n",
      "0                Wii Sports      Wii           2006.0        Sports     41.36   \n",
      "1         Super Mario Bros.      NES           1985.0      Platform     29.08   \n",
      "2            Mario Kart Wii      Wii           2008.0        Racing     15.68   \n",
      "3         Wii Sports Resort      Wii           2009.0        Sports     15.61   \n",
      "4  Pokemon Red/Pokemon Blue       GB           1996.0  Role-Playing     11.27   \n",
      "\n",
      "   eu_sales  jp_sales  other_sales  critic_score user_score rating  \n",
      "0     28.96      3.77         8.45          76.0          8      E  \n",
      "1      3.58      6.81         0.77           NaN        NaN    NaN  \n",
      "2     12.76      3.79         3.29          82.0        8.3      E  \n",
      "3     10.93      3.28         2.95          80.0          8      E  \n",
      "4      8.89     10.22         1.00           NaN        NaN    NaN  \n"
     ]
    }
   ],
   "source": [
    "print(data_game.head())"
   ]
  },
  {
   "cell_type": "code",
   "execution_count": 5,
   "metadata": {},
   "outputs": [
    {
     "name": "stdout",
     "output_type": "stream",
     "text": [
      "tbd    2424\n",
      "7.8     324\n",
      "8       290\n",
      "8.2     282\n",
      "8.3     254\n",
      "       ... \n",
      "1.1       2\n",
      "1.9       2\n",
      "9.6       2\n",
      "0         1\n",
      "9.7       1\n",
      "Name: user_score, Length: 96, dtype: int64\n"
     ]
    }
   ],
   "source": [
    "#analizando la columna 'user_score' \n",
    "print(data_game['user_score'].value_counts())"
   ]
  },
  {
   "cell_type": "markdown",
   "metadata": {},
   "source": [
    "Como sabemos 'user_score' es el puntaje que le colocan los usuarios a un determinado juego y como este es un numero de tipo flotante es recomendable cambiar el tipo de dato object a flotante. Pero antes observamos que existe una calificacion denotada como 'TBD' ('to be determined'). El cambio de dato no se pude efectuar ya que este es un string por lo que cambiaremos esta calificacion como 999. Como las calificaciones van del 1 al 10, '999' nos indica que no se ha podido determinar aún la calificación. "
   ]
  },
  {
   "cell_type": "code",
   "execution_count": 6,
   "metadata": {},
   "outputs": [],
   "source": [
    "#Cambiamos 'tbd' a 999\n",
    "data_game.loc[data_game['user_score']=='tbd','user_score']=999 \n",
    "#Cambio en el tipo de dato \n",
    "data_game['user_score']=data_game['user_score'].astype('float')"
   ]
  },
  {
   "cell_type": "code",
   "execution_count": 7,
   "metadata": {},
   "outputs": [
    {
     "name": "stdout",
     "output_type": "stream",
     "text": [
      "E       3990\n",
      "T       2961\n",
      "M       1563\n",
      "E10+    1420\n",
      "EC         8\n",
      "K-A        3\n",
      "RP         3\n",
      "AO         1\n",
      "Name: rating, dtype: int64\n",
      "la cantidad de valores ausentes:  6766\n"
     ]
    }
   ],
   "source": [
    "#Analizando la columna 'rating' \n",
    "print(data_game['rating'].value_counts())\n",
    "print('la cantidad de valores ausentes: ',data_game['rating'].isna().sum())"
   ]
  },
  {
   "cell_type": "markdown",
   "metadata": {},
   "source": [
    "Completaremos estos valores ausentes como 'no rating' (No clasificado). Como ultimo paso convertiremos el tipo de dato a categorico."
   ]
  },
  {
   "cell_type": "code",
   "execution_count": 8,
   "metadata": {},
   "outputs": [],
   "source": [
    "data_game['rating'].fillna('no rating',inplace=True)\n",
    "#Cambiando el tipo de dato \n",
    "data_game['rating']=data_game['rating'].astype('category')"
   ]
  },
  {
   "cell_type": "code",
   "execution_count": 9,
   "metadata": {},
   "outputs": [
    {
     "name": "stdout",
     "output_type": "stream",
     "text": [
      "['Wii' 'NES' 'GB' 'DS' 'X360' 'PS3' 'PS2' 'SNES' 'GBA' 'PS4' '3DS' 'N64'\n",
      " 'PS' 'XB' 'PC' '2600' 'PSP' 'XOne' 'WiiU' 'GC' 'GEN' 'DC' 'PSV' 'SAT'\n",
      " 'SCD' 'WS' 'NG' 'TG16' '3DO' 'GG' 'PCFX']\n"
     ]
    }
   ],
   "source": [
    "print(data_game['platform'].unique())"
   ]
  },
  {
   "cell_type": "markdown",
   "metadata": {},
   "source": [
    "Como vemos existe un numero limitado de consolas por lo que seria recomendable cambiar a tipo de dato category"
   ]
  },
  {
   "cell_type": "code",
   "execution_count": 10,
   "metadata": {},
   "outputs": [],
   "source": [
    "#Cambio de tipo de dato category\n",
    "data_game['platform']=data_game['platform'].astype('category')"
   ]
  },
  {
   "cell_type": "markdown",
   "metadata": {},
   "source": [
    "## Tratamiento de duplicados "
   ]
  },
  {
   "cell_type": "code",
   "execution_count": 11,
   "metadata": {},
   "outputs": [
    {
     "name": "stdout",
     "output_type": "stream",
     "text": [
      "la cantidad de filas totalmente duplicadas:  0\n"
     ]
    }
   ],
   "source": [
    "duplicados=data_game.duplicated().sum()\n",
    "print('la cantidad de filas totalmente duplicadas: ',duplicados)"
   ]
  },
  {
   "cell_type": "code",
   "execution_count": 12,
   "metadata": {},
   "outputs": [
    {
     "name": "stdout",
     "output_type": "stream",
     "text": [
      "5155\n"
     ]
    }
   ],
   "source": [
    "print(data_game['name'].duplicated().sum())"
   ]
  },
  {
   "cell_type": "code",
   "execution_count": 13,
   "metadata": {},
   "outputs": [
    {
     "name": "stdout",
     "output_type": "stream",
     "text": [
      "Need for Speed: Most Wanted                         12\n",
      "Ratatouille                                          9\n",
      "LEGO Marvel Super Heroes                             9\n",
      "FIFA 14                                              9\n",
      "Madden NFL 07                                        9\n",
      "                                                    ..\n",
      "Jewels of the Tropical Lost Island                   1\n",
      "Sherlock Holmes and the Mystery of Osborne House     1\n",
      "The King of Fighters '95 (CD)                        1\n",
      "Megamind: Mega Team Unite                            1\n",
      "Haitaka no Psychedelica                              1\n",
      "Name: name, Length: 11559, dtype: int64\n"
     ]
    }
   ],
   "source": [
    "print(data_game['name'].value_counts())"
   ]
  },
  {
   "cell_type": "code",
   "execution_count": 14,
   "metadata": {},
   "outputs": [
    {
     "name": "stdout",
     "output_type": "stream",
     "text": [
      "                             name platform  year_of_release   genre  na_sales  \\\n",
      "253   Need for Speed: Most Wanted      PS2           2005.0  Racing      2.03   \n",
      "523   Need for Speed: Most Wanted      PS3           2012.0  Racing      0.71   \n",
      "1190  Need for Speed: Most Wanted     X360           2012.0  Racing      0.62   \n",
      "1591  Need for Speed: Most Wanted     X360           2005.0  Racing      1.00   \n",
      "1998  Need for Speed: Most Wanted       XB           2005.0  Racing      0.53   \n",
      "\n",
      "      eu_sales  jp_sales  other_sales  critic_score  user_score     rating  \n",
      "253       1.79      0.08         0.47          82.0         9.1          T  \n",
      "523       1.46      0.06         0.58           NaN         NaN  no rating  \n",
      "1190      0.78      0.01         0.15          83.0         8.5          T  \n",
      "1591      0.13      0.02         0.10          83.0         8.5          T  \n",
      "1998      0.46      0.00         0.05          83.0         8.8          T  \n"
     ]
    }
   ],
   "source": [
    "print(data_game[data_game['name']=='Need for Speed: Most Wanted'].head(5))"
   ]
  },
  {
   "cell_type": "markdown",
   "metadata": {},
   "source": [
    "Nombres de juegos repetidos pero con cambios de plataforma, y con diferentes años de lanzamiento por lo que no hay de que preocuparse de estos duplicados. "
   ]
  },
  {
   "cell_type": "markdown",
   "metadata": {},
   "source": [
    "## Tratamiento de valores ausentes "
   ]
  },
  {
   "cell_type": "code",
   "execution_count": 15,
   "metadata": {},
   "outputs": [
    {
     "name": "stdout",
     "output_type": "stream",
     "text": [
      "<class 'pandas.core.frame.DataFrame'>\n",
      "RangeIndex: 16715 entries, 0 to 16714\n",
      "Data columns (total 11 columns):\n",
      " #   Column           Non-Null Count  Dtype   \n",
      "---  ------           --------------  -----   \n",
      " 0   name             16713 non-null  object  \n",
      " 1   platform         16715 non-null  category\n",
      " 2   year_of_release  16446 non-null  float64 \n",
      " 3   genre            16713 non-null  object  \n",
      " 4   na_sales         16715 non-null  float64 \n",
      " 5   eu_sales         16715 non-null  float64 \n",
      " 6   jp_sales         16715 non-null  float64 \n",
      " 7   other_sales      16715 non-null  float64 \n",
      " 8   critic_score     8137 non-null   float64 \n",
      " 9   user_score       10014 non-null  float64 \n",
      " 10  rating           16715 non-null  category\n",
      "dtypes: category(2), float64(7), object(2)\n",
      "memory usage: 1.2+ MB\n"
     ]
    }
   ],
   "source": [
    "data_game.info()"
   ]
  },
  {
   "cell_type": "markdown",
   "metadata": {},
   "source": [
    "### columna name "
   ]
  },
  {
   "cell_type": "code",
   "execution_count": 16,
   "metadata": {},
   "outputs": [
    {
     "name": "stdout",
     "output_type": "stream",
     "text": [
      "      name platform  year_of_release genre  na_sales  eu_sales  jp_sales  \\\n",
      "659    NaN      GEN           1993.0   NaN      1.78      0.53      0.00   \n",
      "14244  NaN      GEN           1993.0   NaN      0.00      0.00      0.03   \n",
      "\n",
      "       other_sales  critic_score  user_score     rating  \n",
      "659           0.08           NaN         NaN  no rating  \n",
      "14244         0.00           NaN         NaN  no rating  \n"
     ]
    }
   ],
   "source": [
    "print(data_game[data_game['name'].isna()])"
   ]
  },
  {
   "cell_type": "markdown",
   "metadata": {},
   "source": [
    "Al no tener el nombre del juego y ser dos filas que no contiene esta informacion importante, lo mas conveniente seria eliminar estas filas. "
   ]
  },
  {
   "cell_type": "code",
   "execution_count": 17,
   "metadata": {},
   "outputs": [],
   "source": [
    "# eliminacion de filas con 'name' ausente \n",
    "data_game.dropna(subset=['name'],inplace=True)"
   ]
  },
  {
   "cell_type": "markdown",
   "metadata": {},
   "source": [
    "### columna year_of_release"
   ]
  },
  {
   "cell_type": "code",
   "execution_count": 18,
   "metadata": {},
   "outputs": [
    {
     "name": "stdout",
     "output_type": "stream",
     "text": [
      "valores ausentes en la columna \"year_of_release\":  269\n"
     ]
    }
   ],
   "source": [
    "print('valores ausentes en la columna \"year_of_release\": ',data_game['year_of_release'].isna().sum())"
   ]
  },
  {
   "cell_type": "markdown",
   "metadata": {},
   "source": [
    "Ya que representa una cantidad importante de datos, vamos a dejar estos valores como 0. Veremos mas adelante si es que en realidad afectan a nuestro analisis. Cabe recalcar que podriamos tambien eliminar estos datos o rellenarlos con la media pero tomaremos en consideración esta decision para más adelante. "
   ]
  },
  {
   "cell_type": "code",
   "execution_count": 19,
   "metadata": {},
   "outputs": [],
   "source": [
    "data_game=data_game.dropna(subset=['year_of_release'])\n",
    "#cambio en el tipo de dato\n",
    "data_game['year_of_release']= data_game['year_of_release'].astype('int')"
   ]
  },
  {
   "cell_type": "markdown",
   "metadata": {},
   "source": [
    "### columna genre "
   ]
  },
  {
   "cell_type": "code",
   "execution_count": 20,
   "metadata": {},
   "outputs": [
    {
     "name": "stdout",
     "output_type": "stream",
     "text": [
      "la cantidad de valores ausentes:  0\n"
     ]
    }
   ],
   "source": [
    "print('la cantidad de valores ausentes: ',data_game['genre'].isna().sum())"
   ]
  },
  {
   "cell_type": "markdown",
   "metadata": {},
   "source": [
    "### columna critic_score"
   ]
  },
  {
   "cell_type": "code",
   "execution_count": 21,
   "metadata": {},
   "outputs": [
    {
     "name": "stdout",
     "output_type": "stream",
     "text": [
      "la cantidad de valores ausentes:  8461\n"
     ]
    }
   ],
   "source": [
    "print('la cantidad de valores ausentes: ',data_game['critic_score'].isna().sum())"
   ]
  },
  {
   "cell_type": "markdown",
   "metadata": {},
   "source": [
    "La cantida de valores ausentes dentro de las critica es bastante por lo que eliminar estos datos puede llevarnos a tener errores en nuestro analisis por el momento se dejaran. "
   ]
  },
  {
   "cell_type": "markdown",
   "metadata": {},
   "source": [
    "### columna user_score "
   ]
  },
  {
   "cell_type": "code",
   "execution_count": 22,
   "metadata": {},
   "outputs": [
    {
     "name": "stdout",
     "output_type": "stream",
     "text": [
      "la cantidad de valores ausentes:  6605\n"
     ]
    }
   ],
   "source": [
    "print('la cantidad de valores ausentes: ',data_game['user_score'].isna().sum()) "
   ]
  },
  {
   "cell_type": "markdown",
   "metadata": {},
   "source": [
    "### columna rating "
   ]
  },
  {
   "cell_type": "code",
   "execution_count": 23,
   "metadata": {},
   "outputs": [
    {
     "name": "stdout",
     "output_type": "stream",
     "text": [
      "la cantidad de valores ausentes:  0\n"
     ]
    }
   ],
   "source": [
    "print('la cantidad de valores ausentes: ',data_game['rating'].isna().sum()) "
   ]
  },
  {
   "cell_type": "code",
   "execution_count": 24,
   "metadata": {},
   "outputs": [
    {
     "name": "stdout",
     "output_type": "stream",
     "text": [
      "<class 'pandas.core.frame.DataFrame'>\n",
      "Int64Index: 16444 entries, 0 to 16714\n",
      "Data columns (total 11 columns):\n",
      " #   Column           Non-Null Count  Dtype   \n",
      "---  ------           --------------  -----   \n",
      " 0   name             16444 non-null  object  \n",
      " 1   platform         16444 non-null  category\n",
      " 2   year_of_release  16444 non-null  int64   \n",
      " 3   genre            16444 non-null  object  \n",
      " 4   na_sales         16444 non-null  float64 \n",
      " 5   eu_sales         16444 non-null  float64 \n",
      " 6   jp_sales         16444 non-null  float64 \n",
      " 7   other_sales      16444 non-null  float64 \n",
      " 8   critic_score     7983 non-null   float64 \n",
      " 9   user_score       9839 non-null   float64 \n",
      " 10  rating           16444 non-null  category\n",
      "dtypes: category(2), float64(6), int64(1), object(2)\n",
      "memory usage: 1.3+ MB\n"
     ]
    }
   ],
   "source": [
    "data_game.info()"
   ]
  },
  {
   "cell_type": "markdown",
   "metadata": {},
   "source": [
    "## Enriquecimiento de datos "
   ]
  },
  {
   "cell_type": "markdown",
   "metadata": {},
   "source": [
    "En esta seccion nos enfocaremos a la creacion de nuevas columnas que nos permitiran mas adelante a tener un mejor analisis a posterior. "
   ]
  },
  {
   "cell_type": "code",
   "execution_count": 25,
   "metadata": {},
   "outputs": [],
   "source": [
    "#creacion de una columna que acumula el total de ventas \n",
    "data_game['total_sales']=data_game['na_sales']+data_game['eu_sales']+data_game['jp_sales']+data_game['other_sales']"
   ]
  },
  {
   "cell_type": "markdown",
   "metadata": {},
   "source": [
    "## Analisis de datos "
   ]
  },
  {
   "cell_type": "code",
   "execution_count": 26,
   "metadata": {},
   "outputs": [],
   "source": [
    "# Cantidad de juegos lanzados cada año \n",
    "data_fitered=data_game.groupby('year_of_release').size().reset_index()\n",
    "data_fitered= data_fitered.rename(columns={0:'juegos_lanzados'}).sort_values(by=['year_of_release'])"
   ]
  },
  {
   "cell_type": "code",
   "execution_count": 27,
   "metadata": {},
   "outputs": [
    {
     "data": {
      "image/png": "[encoded data removed]",
      "text/plain": [
       "<Figure size 1000x600 with 1 Axes>"
      ]
     },
     "metadata": {},
     "output_type": "display_data"
    }
   ],
   "source": [
    "data_fitered.plot(kind='bar',\n",
    "                  x='year_of_release',\n",
    "                  y='juegos_lanzados',\n",
    "                  xlabel='año_de_lanzamiento',\n",
    "                  ylabel='juegos_lanzados',\n",
    "                  title='Juegos lanzados a lo largo de los años',\n",
    "                  figsize=(10,6),\n",
    ")\n",
    "plt.show()"
   ]
  },
  {
   "cell_type": "markdown",
   "metadata": {},
   "source": [
    "### ¿Como ha variado las ventas de las distintas plataformas a lo largo de los años? "
   ]
  },
  {
   "cell_type": "markdown",
   "metadata": {},
   "source": [
    "Para esta seccion veremos el comportamiento de ventas de juegos de las distintas plataforma a lo largo de los años, como es que algunas consolas a pesar de tener altas ventas desaparecen con el tiempo, como es la ventas de las consolas mas actuales, etc. "
   ]
  },
  {
   "cell_type": "code",
   "execution_count": 28,
   "metadata": {},
   "outputs": [
    {
     "name": "stdout",
     "output_type": "stream",
     "text": [
      "     platform year_of_release         sum\n",
      "                              total_sales\n",
      "0        2600            1980       11.38\n",
      "1        2600            1981       35.68\n",
      "2        2600            1982       28.88\n",
      "3        2600            1983        5.84\n",
      "4        2600            1984        0.27\n",
      "...       ...             ...         ...\n",
      "1142     XOne            2012        0.00\n",
      "1143     XOne            2013       18.96\n",
      "1144     XOne            2014       54.07\n",
      "1145     XOne            2015       60.14\n",
      "1146     XOne            2016       26.15\n",
      "\n",
      "[1147 rows x 3 columns]\n"
     ]
    }
   ],
   "source": [
    "data_pivot= data_game.pivot_table(index=['platform','year_of_release'],values=['total_sales'], aggfunc=['sum']).reset_index()\n",
    "print(data_pivot)"
   ]
  },
  {
   "cell_type": "code",
   "execution_count": 29,
   "metadata": {},
   "outputs": [
    {
     "name": "stdout",
     "output_type": "stream",
     "text": [
      "   platform  year_of_release  total_sales\n",
      "0      2600             1980        11.38\n",
      "1      2600             1981        35.68\n",
      "2      2600             1982        28.88\n",
      "3      2600             1983         5.84\n",
      "4      2600             1984         0.27\n",
      "5      2600             1985         0.45\n",
      "6      2600             1986         0.67\n",
      "7      2600             1987         1.94\n",
      "8      2600             1988         0.74\n",
      "9      2600             1989         0.63\n",
      "10     2600             1990         0.00\n",
      "11     2600             1991         0.00\n",
      "12     2600             1992         0.00\n",
      "13     2600             1993         0.00\n",
      "14     2600             1994         0.00\n",
      "15     2600             1995         0.00\n",
      "16     2600             1996         0.00\n",
      "17     2600             1997         0.00\n",
      "18     2600             1998         0.00\n",
      "19     2600             1999         0.00\n",
      "20     2600             2000         0.00\n",
      "21     2600             2001         0.00\n",
      "22     2600             2002         0.00\n",
      "23     2600             2003         0.00\n",
      "24     2600             2004         0.00\n",
      "25     2600             2005         0.00\n",
      "26     2600             2006         0.00\n",
      "27     2600             2007         0.00\n",
      "28     2600             2008         0.00\n",
      "29     2600             2009         0.00\n",
      "30     2600             2010         0.00\n",
      "31     2600             2011         0.00\n",
      "32     2600             2012         0.00\n",
      "33     2600             2013         0.00\n",
      "34     2600             2014         0.00\n",
      "35     2600             2015         0.00\n",
      "36     2600             2016         0.00\n"
     ]
    },
    {
     "data": {
      "image/png": "[encoded data removed]",
      "text/plain": [
       "<Figure size 640x480 with 1 Axes>"
      ]
     },
     "metadata": {},
     "output_type": "display_data"
    }
   ],
   "source": [
    "# Ajustar los nombres de las columnas para facilitar el acceso\n",
    "data_pivot.columns = ['platform', 'year_of_release', 'total_sales']\n",
    "data_momentanea=data_pivot[data_pivot['platform']=='2600']\n",
    "print(data_momentanea)\n",
    "data_momentanea.plot(x='year_of_release',y='total_sales')\n",
    "plt.show()"
   ]
  }
 ],
 "metadata": {
  "kernelspec": {
   "display_name": "proyect_env",
   "language": "python",
   "name": "python3"
  },
  "language_info": {
   "codemirror_mode": {
    "name": "ipython",
    "version": 3
   },
   "file_extension": ".py",
   "mimetype": "text/x-python",
   "name": "python",
   "nbconvert_exporter": "python",
   "pygments_lexer": "ipython3",
   "version": "3.9.0"
  }
 },
 "nbformat": 4,
 "nbformat_minor": 2
}
